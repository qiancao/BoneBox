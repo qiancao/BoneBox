{
 "cells": [
  {
   "cell_type": "code",
   "execution_count": 30,
   "id": "5b18d5c0",
   "metadata": {
    "scrolled": true
   },
   "outputs": [],
   "source": [
    "import numpy as np\n",
    "from bonebox.phantoms.TrabeculaeVoronoi_Shi import *\n",
    "import ipyvolume as ipv\n",
    "# import nibabel as nib\n",
    "import random\n",
    "import math\n",
    "import os\n",
    "from tqdm import tqdm\n",
    "\n",
    "#####################################################################\n",
    "folderName = 'BoneSet'\n",
    "\n",
    "# Parameters for generating phantom mesh\n",
    "# Volume size in mm\n",
    "Sxyz                = (5,5,5)\n",
    "# Volume dim in Voxels\n",
    "volumeSizeVoxels    = (400,400,400)\n",
    "# Spacing of seed points\n",
    "Spacingxyz          = (1, 1, 1)\n",
    "# Distubance radius in mm\n",
    "Rxyz                = 0.0\n",
    "\n",
    "# For random number gneration\n",
    "randState           = 123 # for repeatability\n",
    "# randState           = random.choice(range(100))\n",
    "\n",
    "# Edge and Face fraction to retain\n",
    "edgesRetainFraction = 0.5\n",
    "facesRetainFraction = 0.3\n",
    "# Dilation radius in voxels\n",
    "dilationRadius      = 3\n",
    "\n",
    "# Voxel Size\n",
    "voxelSize = np.array(Sxyz) / np.array(volumeSizeVoxels)\n",
    "#####################################################################\n",
    "\n",
    "if not os.path.exists(folderName):\n",
    "    os.mkdir(folderName)"
   ]
  },
  {
   "cell_type": "code",
   "execution_count": 31,
   "id": "1cac9042",
   "metadata": {},
   "outputs": [],
   "source": [
    "# Generate Seed Points\n",
    "points = makeSeedPointsCartesian_LineorArc(Spacingxyz[0], \\\n",
    "                                           Spacingxyz[1], \\\n",
    "                                           Spacingxyz[2], \\\n",
    "                                           10, 0, 0, \\\n",
    "                                           10, 0, 0, \\\n",
    "                                           Sxyz,7)\n",
    "\n",
    "# Random perturbation\n",
    "ppoints = perturbSeedPointsCartesianUniformXYZ(points, Rxyz, randState=randState)\n",
    "\n",
    "# Generate voronoi tessilation\n",
    "vor, ind = applyVoronoi(ppoints, Sxyz)"
   ]
  },
  {
   "cell_type": "code",
   "execution_count": 32,
   "id": "6ebef43d",
   "metadata": {
    "scrolled": true
   },
   "outputs": [
    {
     "data": {
      "application/vnd.jupyter.widget-view+json": {
       "model_id": "f07921c0a6aa4eb0850de363e5693e11",
       "version_major": 2,
       "version_minor": 0
      },
      "text/plain": [
       "Container(figure=Figure(box_center=[0.5, 0.5, 0.5], box_size=[1.0, 1.0, 1.0], camera=PerspectiveCamera(fov=45.…"
      ]
     },
     "metadata": {},
     "output_type": "display_data"
    },
    {
     "data": {
      "text/plain": [
       "(105, 20, 2.5)"
      ]
     },
     "execution_count": 32,
     "metadata": {},
     "output_type": "execute_result"
    }
   ],
   "source": [
    "fig = ipv.figure()\n",
    "scatter = ipv.scatter(ppoints[:,0], ppoints[:,1], ppoints[:,2])\n",
    "ipv.show()\n",
    "ipv.pylab.view(105,20,2.5)"
   ]
  },
  {
   "cell_type": "code",
   "execution_count": 33,
   "id": "24810657",
   "metadata": {},
   "outputs": [
    {
     "name": "stdout",
     "output_type": "stream",
     "text": [
      "21\n",
      "21\n",
      "Face number final = 80\n"
     ]
    },
    {
     "name": "stderr",
     "output_type": "stream",
     "text": [
      "100%|██████████████████████████████████████████████████████████████████████████████████| 80/80 [00:00<00:00, 93.16it/s]\n"
     ]
    },
    {
     "name": "stdout",
     "output_type": "stream",
     "text": [
      "Edge number = 218\n",
      "Edge number final = 109\n",
      "\n",
      "Max Rod/plate number = 2.725000\n",
      "Final Rod/plate number = 1.362500\n"
     ]
    }
   ],
   "source": [
    "# Finalize initial edges and faces\n",
    "uniqueEdges, uniqueFaces = findUniqueEdgesAndFaces(vor, ind,Sxyz)\n",
    "\n",
    "# Remove Faces\n",
    "uniqueFacesRetain, facesRetainInd = filterFacesRandomUniform(uniqueFaces, \n",
    "                                                             facesRetainFraction, \n",
    "                                                             randState=randState)\n",
    "print(\"Face number final = %d\" % len(facesRetainInd))\n",
    "\n",
    "# Remove Edge that is part of a face\n",
    "for j in tqdm(range(len(uniqueFacesRetain))):\n",
    "    temp = [np.sum(np.isin(uniqueEdges[x], uniqueFacesRetain[j]).astype(int)) == 2 for x in range(len(uniqueEdges))]\n",
    "    temp = np.array(temp).astype(int)\n",
    "    if j == 0:\n",
    "        t = temp\n",
    "    else:\n",
    "        t = t + temp\n",
    "edge = np.delete(uniqueEdges,np.where(t>0)[0].astype(int), axis=0)\n",
    "print(\"Edge number = %d\" % len(edge))\n",
    "\n",
    "# Randomly Remove Edge\n",
    "uniqueEdgesRetain, edgesRetainInd = filterEdgesRandomUniform(edge, \n",
    "                                                             edgesRetainFraction, \n",
    "                                                             randState=randState)\n",
    "print(\"Edge number final = %d\\n\" % len(edgesRetainInd))\n",
    "\n",
    "# Rod to plate ratio\n",
    "RodToPlate = len(edge)/len(facesRetainInd)\n",
    "print(\"Max Rod/plate number = %f\" % RodToPlate)\n",
    "RodToPlate = len(edgesRetainInd)/len(facesRetainInd)\n",
    "print(\"Final Rod/plate number = %f\" % RodToPlate)\n",
    "\n",
    "\n",
    "# Generate Volume base on the remaining face and edges\n",
    "volumeEdges = makeSkeletonVolumeEdges(vor.vertices, \n",
    "                                      uniqueEdgesRetain, \n",
    "                                      voxelSize, \n",
    "                                      volumeSizeVoxels)\n",
    "volumeFaces = makeSkeletonVolumeFaces(vor.vertices, \n",
    "                                      uniqueFacesRetain, \n",
    "                                      voxelSize, \n",
    "                                      volumeSizeVoxels)\n",
    "\n",
    "\n",
    "volumeDilated = dilateVolumeSphereUniform(np.logical_or(volumeEdges,volumeFaces), \\\n",
    "                                          dilationRadius)\n",
    "\n",
    "volumeDilated = volumeDilated * 1;\n",
    "\n",
    "#####################################################################################"
   ]
  },
  {
   "cell_type": "code",
   "execution_count": 35,
   "id": "95a16df8",
   "metadata": {},
   "outputs": [
    {
     "data": {
      "application/vnd.jupyter.widget-view+json": {
       "model_id": "64a6aa97c23948b3811dbe722c2b09b7",
       "version_major": 2,
       "version_minor": 0
      },
      "text/plain": [
       "Container(figure=Figure(box_center=[0.5, 0.5, 0.5], box_size=[1.0, 1.0, 1.0], camera=PerspectiveCamera(fov=45.…"
      ]
     },
     "metadata": {},
     "output_type": "display_data"
    },
    {
     "data": {
      "application/vnd.jupyter.widget-view+json": {
       "model_id": "c740d5e552eb47ad90e491c9c1922864",
       "version_major": 2,
       "version_minor": 0
      },
      "text/plain": [
       "Container(figure=Figure(box_center=[0.5, 0.5, 0.5], box_size=[1.0, 1.0, 1.0], camera=PerspectiveCamera(fov=45.…"
      ]
     },
     "metadata": {},
     "output_type": "display_data"
    },
    {
     "data": {
      "text/plain": [
       "(105, 20, 2.5)"
      ]
     },
     "execution_count": 35,
     "metadata": {},
     "output_type": "execute_result"
    }
   ],
   "source": [
    "fig = ipv.figure()\n",
    "\n",
    "indices = np.nonzero(volumeEdges)\n",
    "scatter = ipv.scatter(indices[0]/1, indices[1]/1, indices[2]/1, color='blue', marker='box',  size=1)\n",
    "\n",
    "indices = np.nonzero(volumeFaces)\n",
    "scatter = ipv.scatter(indices[0]/1, indices[1]/1, indices[2]/1, color='red', marker='box',  size=1)\n",
    "\n",
    "ipv.show()\n",
    "ipv.pylab.view(105,20,2.5)\n",
    "\n",
    "fig = ipv.figure()\n",
    "\n",
    "indices = np.nonzero(volumeDilated)\n",
    "scatter = ipv.scatter(indices[0]/1, indices[1]/1, indices[2]/1, color='red', marker='box',  size=1)\n",
    "\n",
    "ipv.show()\n",
    "ipv.pylab.view(105,20,2.5)"
   ]
  },
  {
   "cell_type": "code",
   "execution_count": null,
   "id": "6a134da1",
   "metadata": {},
   "outputs": [],
   "source": []
  }
 ],
 "metadata": {
  "kernelspec": {
   "display_name": "Python 3 (ipykernel)",
   "language": "python",
   "name": "python3"
  },
  "language_info": {
   "codemirror_mode": {
    "name": "ipython",
    "version": 3
   },
   "file_extension": ".py",
   "mimetype": "text/x-python",
   "name": "python",
   "nbconvert_exporter": "python",
   "pygments_lexer": "ipython3",
   "version": "3.8.16"
  }
 },
 "nbformat": 4,
 "nbformat_minor": 5
}
